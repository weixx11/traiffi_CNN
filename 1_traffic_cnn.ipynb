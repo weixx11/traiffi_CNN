{
 "cells": [
  {
   "cell_type": "markdown",
   "metadata": {},
   "source": [
    "# 1.导入数据加载数据"
   ]
  },
  {
   "cell_type": "code",
   "execution_count": 2,
   "metadata": {},
   "outputs": [],
   "source": [
    "import matplotlib.pyplot as plt\n",
    "import glob\n",
    "from collections import namedtuple\n",
    "import numpy as np\n",
    "import cv2\n",
    "np.random.seed(101)\n",
    "%matplotlib inline"
   ]
  },
  {
   "cell_type": "code",
   "execution_count": 4,
   "metadata": {},
   "outputs": [],
   "source": [
    "N_CLASSES = 43\n",
    "RESIZED_IMAGE = (32, 32)"
   ]
  },
  {
   "cell_type": "code",
   "execution_count": 3,
   "metadata": {},
   "outputs": [],
   "source": [
    "#定义元组\n",
    "Dataset = namedtuple('Dataset', ['X', 'y'])"
   ]
  },
  {
   "cell_type": "code",
   "execution_count": 19,
   "metadata": {},
   "outputs": [],
   "source": [
    "def to_tf_format(imgs):\n",
    "    return np.stack([img[:, :, np.newaxis] for img in imgs], axis=0).astype(np.float32)"
   ]
  },
  {
   "cell_type": "code",
   "execution_count": 20,
   "metadata": {},
   "outputs": [],
   "source": [
    "def read_dataset_ppm(rootpath, n_labels, resize_to):\n",
    "    \"\"\"\n",
    "    读取数据\n",
    "    \"\"\"\n",
    "    images = []\n",
    "    labels = []\n",
    "    for c in range(n_labels):\n",
    "        full_path = rootpath + '/' + format(c, '05d') + '/'\n",
    "        for img_name in glob.glob(full_path + \"*.ppm\"):\n",
    "            img = cv2.imread(img_name)\n",
    "            img = cv2.resize(img,RESIZED_IMAGE, 0, 0, cv2.INTER_LINEAR)\n",
    "            img = img.astype(np.float32)\n",
    "            img = np.multiply(img, 1.0 / 255.0)  #进行归一化\n",
    "            img = np.mean(img, -1)  #进行灰度\n",
    "            \n",
    "            images.append(img.astype(np.float32))\n",
    "            label = np.zeros((n_labels, ), dtype=np.float32)\n",
    "            label[c] = 1.0\n",
    "            labels.append(label)\n",
    "            \n",
    "    return Dataset(X = to_tf_format(images).astype(np.float32),\n",
    "                  y = np.matrix(labels).astype(np.float32))\n"
   ]
  },
  {
   "cell_type": "code",
   "execution_count": 21,
   "metadata": {},
   "outputs": [],
   "source": [
    "dataset = read_dataset_ppm('./GTSRB/Final_Training/Images/', N_CLASSES, RESIZED_IMAGE"
   ]
  },
  {
   "cell_type": "code",
   "execution_count": 51,
   "metadata": {},
   "outputs": [
    {
     "name": "stdout",
     "output_type": "stream",
     "text": [
      "[[0. 0. 0. 0. 0. 0. 0. 0. 0. 0. 0. 0. 0. 0. 0. 0. 0. 0. 0. 0. 0. 0. 0. 0.\n",
      "  0. 0. 0. 0. 0. 0. 0. 0. 0. 0. 0. 0. 0. 0. 0. 0. 0. 0. 1.]]\n"
     ]
    },
    {
     "data": {
      "image/png": "[encoded data removed]",
      "text/plain": [
       "<matplotlib.figure.Figure at 0x24f6ff28e48>"
      ]
     },
     "metadata": {},
     "output_type": "display_data"
    }
   ],
   "source": [
    "plt.imshow(dataset.X[0, :, :, :].reshape(RESIZED_IMAGE)) \n",
    "print(dataset.y[-1, :]) #label"
   ]
  },
  {
   "cell_type": "code",
   "execution_count": 52,
   "metadata": {},
   "outputs": [
    {
     "name": "stdout",
     "output_type": "stream",
     "text": [
      "(29406, 32, 32, 1)\n",
      "(29406, 43)\n",
      "(9803, 32, 32, 1)\n",
      "(9803, 43)\n"
     ]
    }
   ],
   "source": [
    "#切分训练集与测试集，切分索引号\n",
    "from sklearn.model_selection import train_test_split\n",
    "idx_train, idx_test = train_test_split(range(dataset.X.shape[0]), test_size=0.25, random_state=101)\n",
    "X_train = dataset.X[idx_train, :, :, :]\n",
    "X_test = dataset.X[idx_test, :, :, :]\n",
    "y_train = dataset.y[idx_train, :]\n",
    "y_test = dataset.y[idx_test, :]\n",
    "\n",
    "#打印维度\n",
    "print(X_train.shape)\n",
    "print(y_train.shape)\n",
    "print(X_test.shape)\n",
    "print(y_test.shape)      "
   ]
  },
  {
   "cell_type": "code",
   "execution_count": 53,
   "metadata": {},
   "outputs": [],
   "source": [
    "#定义minibatcher函数\n",
    "def minibatcher(X, y, batch_size, shuffle):\n",
    "    assert X.shape[0] == y.shape[0]\n",
    "    n_samples = X.shape[0]\n",
    "    \n",
    "    if shuffle:\n",
    "        idx = np.random.permutation(n_samples)\n",
    "    else:\n",
    "        idx = list(range(n_samples))\n",
    "    \n",
    "    for k in range(int(np.ceil(n_samples/batch_size))):\n",
    "        from_idx = k * batch_size\n",
    "        to_idx = (k+1) * batch_size\n",
    "        yield X[idx[from_idx:to_idx], :, :, :], y[idx[from_idx:to_idx], :]\n",
    "        "
   ]
  },
  {
   "cell_type": "code",
   "execution_count": null,
   "metadata": {},
   "outputs": [],
   "source": []
  },
  {
   "cell_type": "markdown",
   "metadata": {},
   "source": [
    "# 建立网络层"
   ]
  },
  {
   "cell_type": "code",
   "execution_count": 42,
   "metadata": {},
   "outputs": [
    {
     "name": "stderr",
     "output_type": "stream",
     "text": [
      "D:\\Anaconda3\\lib\\site-packages\\h5py\\__init__.py:36: FutureWarning: Conversion of the second argument of issubdtype from `float` to `np.floating` is deprecated. In future, it will be treated as `np.float64 == np.dtype(float).type`.\n",
      "  from ._conv import register_converters as _register_converters\n"
     ]
    }
   ],
   "source": [
    "import tensorflow as tf"
   ]
  },
  {
   "cell_type": "code",
   "execution_count": 55,
   "metadata": {},
   "outputs": [],
   "source": [
    "#定义初始化函数\n",
    "def fc_no_activation_layer(in_tensors, n_units):\n",
    "  w = tf.get_variable('fc_W', \n",
    "    [in_tensors.get_shape()[1], n_units],\n",
    "    tf.float32,\n",
    "    tf.contrib.layers.xavier_initializer())\n",
    "  b = tf.get_variable('fc_B',\n",
    "    [n_units, ],\n",
    "    tf.float32,\n",
    "    tf.constant_initializer(0.0))\n",
    "  return tf.matmul(in_tensors, w) + b\n",
    "\n",
    "def fc_layer(in_tensors, n_units):\n",
    "  return tf.nn.leaky_relu(fc_no_activation_layer(in_tensors, n_units))\n",
    "\n",
    "def maxpool_layer(in_tensors, sampling):\n",
    "  return tf.nn.max_pool(in_tensors, [1, sampling, sampling, 1], [1, sampling, sampling, 1], 'SAME')\n",
    "  \n",
    "def conv_layer(in_tensors, kernel_size, n_units):\n",
    "  w = tf.get_variable('conv_W', \n",
    "    [kernel_size, kernel_size, in_tensors.get_shape()[3], n_units],\n",
    "    tf.float32,\n",
    "    tf.contrib.layers.xavier_initializer())\n",
    "  b = tf.get_variable('conv_B',\n",
    "    [n_units, ],\n",
    "    tf.float32,\n",
    "    tf.constant_initializer(0.0))\n",
    "  return tf.nn.leaky_relu(tf.nn.conv2d(in_tensors, w, [1, 2, 2, 1], 'SAME') + b)"
   ]
  },
  {
   "cell_type": "code",
   "execution_count": 56,
   "metadata": {},
   "outputs": [],
   "source": [
    "def traffic_cnn(in_tensors):\n",
    "    \"\"\"\n",
    "    构建三层卷积\n",
    "    \"\"\"\n",
    "    \n",
    "    #第一层\n",
    "    with tf.variable_scope('l1'):\n",
    "        l1 = maxpool_layer(conv_layer(in_tensors, 5, 64), 2)\n",
    "        l1_out = tf.nn.dropout(l1,keep_prob=0.7)\n",
    "        \n",
    "    #第二层\n",
    "    with tf.variable_scope('l2'):\n",
    "        l2 = maxpool_layer(conv_layer(l1_out, 5, 128), 2)\n",
    "        l2_out = tf.nn.dropout(l2,keep_prob=0.7)\n",
    "    \n",
    "    #第三层\n",
    "    with tf.variable_scope('l3'):\n",
    "        l3 = maxpool_layer(conv_layer(l2_out, 5, 512), 2)\n",
    "        l3_out = tf.nn.dropout(l3,keep_prob=0.7)\n",
    "    \n",
    "    with tf.variable_scope('flatten'):\n",
    "        l3_out_flat = tf.layers.flatten(l3_out)\n",
    "    #全连接\n",
    "    with tf.variable_scope('fc'):\n",
    "        fc = fc_layer(l3_out_flat, 1024)\n",
    "        fc_out = tf.nn.dropout(fc, keep_prob=0.6)\n",
    "    \n",
    "    with tf.variable_scope('out'):\n",
    "        out_tensors = fc_no_activation_layer(fc_out, N_CLASSES)\n",
    "    return out_tensors"
   ]
  },
  {
   "cell_type": "code",
   "execution_count": 57,
   "metadata": {},
   "outputs": [],
   "source": [
    "from sklearn.metrics import classification_report, confusion_matrix"
   ]
  },
  {
   "cell_type": "code",
   "execution_count": 61,
   "metadata": {},
   "outputs": [],
   "source": [
    "def train_model(X_train, y_train, X_test, y_test, learning_rate, max_epochs, batch_size):\n",
    "    X = tf.placeholder(tf.float32,shape=(None,RESIZED_IMAGE[0],RESIZED_IMAGE[1],1))\n",
    "    y = tf.placeholder(tf.float32,shape=(None, N_CLASSES))\n",
    "    \n",
    "    out = traffic_cnn(X)\n",
    "    predict = tf.nn.softmax(out)\n",
    "    loss_score = tf.nn.softmax_cross_entropy_with_logits(logits=out, labels=y)\n",
    "    loss = tf.reduce_mean(loss_score)\n",
    "    optimizer = tf.train.AdadeltaOptimizer(learning_rate).minimize(loss)\n",
    "    predict_cls = tf.argmax(predict,axis=1)\n",
    "    Y_cls = tf.argmax(y,axis=1)\n",
    "    correct_pred = tf.equal(predict_cls,Y_cls)\n",
    "    accuracy = tf.reduce_mean(tf.cast(correct_pred, tf.float32))\n",
    "    \n",
    "    #保存模型\n",
    "    saver = tf.train.Saver()\n",
    "    with tf.Session() as sess:\n",
    "        sess.run(tf.global_variables_initializer())\n",
    "        step = 0\n",
    "        \n",
    "        for epoch in range(max_epochs):\n",
    "            print(\"Epoch=\",epoch)\n",
    "            tf_score = []\n",
    "            for mb in minibatcher(X_train, y_train, batch_size, shuffle = True):\n",
    "                tf_output  = sess.run([optimizer,loss],\n",
    "                                      feed_dict = {X : mb[0],\n",
    "                                                   y : mb[1]\n",
    "                                                  })\n",
    "                tf_score.append(tf_output[1])\n",
    "                step += 1\n",
    "            print(\"train_loss_score=\",np.mean(tf_score))\n",
    "\n",
    "            #一轮完了测试准确率\n",
    "            for mb_test in minibatcher(X_test, y_test, batch_size,shuffle = True):\n",
    "                acc = sess.run(accuracy, feed_dict={X : mb_test[0],y : mb_test[1]})\n",
    "                print('epoch:',epoch,'acc:',acc)\n",
    "                if acc > 0.99:\n",
    "                    saver.save(sess,'./model/traffic.model',global_step=step)\n",
    "\n",
    "        print('TEST SET PERFORMANCE')\n",
    "        y_test_pred, test_loss  = sess.run([predict, loss], \n",
    "                                      feed_dict = {X : X_test, \n",
    "                                                   y : y_test})\n",
    "        print('test_loss_score=',test_loss)\n",
    "        y_test_pred_classified , y_test_true_classified =sess.run([predict_cls , Y_cls],\n",
    "                                                                 feed_dict = {X : X_test,\n",
    "                                                                             y : y_test})\n",
    "\n",
    "        print(classification_report(y_test_true_classified, y_test_pred_classified))\n",
    "\n",
    "        cm = confusion_matrix(y_test_true_classified,y_test_pred_classified)\n",
    "\n",
    "        plt.imshow(cm, interpolation='nearest', cmap=plt.cm.Blues)\n",
    "        plt.colorbar()\n",
    "        plt.tight_layout()\n",
    "        plt.show()\n",
    "\n",
    "        # And the log2 version, to enphasize the misclassifications\n",
    "        plt.imshow(np.log2(cm + 1), interpolation='nearest', cmap=plt.get_cmap(\"tab20\"))\n",
    "        plt.colorbar()\n",
    "        plt.tight_layout()\n",
    "        plt.show()"
   ]
  },
  {
   "cell_type": "code",
   "execution_count": 62,
   "metadata": {},
   "outputs": [],
   "source": [
    "tf.reset_default_graph()"
   ]
  },
  {
   "cell_type": "code",
   "execution_count": 63,
   "metadata": {},
   "outputs": [
    {
     "name": "stdout",
     "output_type": "stream",
     "text": [
      "Epoch= 0\n",
      "train_loss_score= 3.759614\n"
     ]
    },
    {
     "ename": "NameError",
     "evalue": "name 'Y' is not defined",
     "output_type": "error",
     "traceback": [
      "\u001b[1;31m---------------------------------------------------------------------------\u001b[0m",
      "\u001b[1;31mNameError\u001b[0m                                 Traceback (most recent call last)",
      "\u001b[1;32m<ipython-input-63-8cc129f8b632>\u001b[0m in \u001b[0;36m<module>\u001b[1;34m()\u001b[0m\n\u001b[1;32m----> 1\u001b[1;33m \u001b[0mtrain_model\u001b[0m\u001b[1;33m(\u001b[0m\u001b[0mX_train\u001b[0m\u001b[1;33m,\u001b[0m \u001b[0my_train\u001b[0m\u001b[1;33m,\u001b[0m \u001b[0mX_test\u001b[0m\u001b[1;33m,\u001b[0m \u001b[0my_test\u001b[0m\u001b[1;33m,\u001b[0m \u001b[1;36m0.001\u001b[0m\u001b[1;33m,\u001b[0m \u001b[1;36m1000\u001b[0m\u001b[1;33m,\u001b[0m \u001b[1;36m32\u001b[0m\u001b[1;33m)\u001b[0m\u001b[1;33m\u001b[0m\u001b[0m\n\u001b[0m",
      "\u001b[1;32m<ipython-input-61-557480824303>\u001b[0m in \u001b[0;36mtrain_model\u001b[1;34m(X_train, y_train, X_test, y_test, learning_rate, max_epochs, batch_size)\u001b[0m\n\u001b[0;32m     33\u001b[0m             \u001b[1;31m#一轮完了测试准确率\u001b[0m\u001b[1;33m\u001b[0m\u001b[1;33m\u001b[0m\u001b[0m\n\u001b[0;32m     34\u001b[0m             \u001b[1;32mfor\u001b[0m \u001b[0mmb_test\u001b[0m \u001b[1;32min\u001b[0m \u001b[0mminibatcher\u001b[0m\u001b[1;33m(\u001b[0m\u001b[0mX_test\u001b[0m\u001b[1;33m,\u001b[0m \u001b[0my_test\u001b[0m\u001b[1;33m,\u001b[0m \u001b[0mbatch_size\u001b[0m\u001b[1;33m,\u001b[0m\u001b[0mshuffle\u001b[0m \u001b[1;33m=\u001b[0m \u001b[1;32mTrue\u001b[0m\u001b[1;33m)\u001b[0m\u001b[1;33m:\u001b[0m\u001b[1;33m\u001b[0m\u001b[0m\n\u001b[1;32m---> 35\u001b[1;33m                 \u001b[0macc\u001b[0m \u001b[1;33m=\u001b[0m \u001b[0msess\u001b[0m\u001b[1;33m.\u001b[0m\u001b[0mrun\u001b[0m\u001b[1;33m(\u001b[0m\u001b[0maccuracy\u001b[0m\u001b[1;33m,\u001b[0m \u001b[0mfeed_dict\u001b[0m\u001b[1;33m=\u001b[0m\u001b[1;33m{\u001b[0m\u001b[0mX\u001b[0m \u001b[1;33m:\u001b[0m \u001b[0mmb_test\u001b[0m\u001b[1;33m[\u001b[0m\u001b[1;36m0\u001b[0m\u001b[1;33m]\u001b[0m\u001b[1;33m,\u001b[0m\u001b[0mY\u001b[0m \u001b[1;33m:\u001b[0m \u001b[0mmb_test\u001b[0m\u001b[1;33m[\u001b[0m\u001b[1;36m1\u001b[0m\u001b[1;33m]\u001b[0m\u001b[1;33m}\u001b[0m\u001b[1;33m)\u001b[0m\u001b[1;33m\u001b[0m\u001b[0m\n\u001b[0m\u001b[0;32m     36\u001b[0m                 \u001b[0mprint\u001b[0m\u001b[1;33m(\u001b[0m\u001b[1;34m'epoch:'\u001b[0m\u001b[1;33m,\u001b[0m\u001b[0mepoch\u001b[0m\u001b[1;33m,\u001b[0m\u001b[1;34m'acc:'\u001b[0m\u001b[1;33m,\u001b[0m\u001b[0macc\u001b[0m\u001b[1;33m)\u001b[0m\u001b[1;33m\u001b[0m\u001b[0m\n\u001b[0;32m     37\u001b[0m                 \u001b[1;32mif\u001b[0m \u001b[0macc\u001b[0m \u001b[1;33m>\u001b[0m \u001b[1;36m0.99\u001b[0m\u001b[1;33m:\u001b[0m\u001b[1;33m\u001b[0m\u001b[0m\n",
      "\u001b[1;31mNameError\u001b[0m: name 'Y' is not defined"
     ]
    }
   ],
   "source": [
    "train_model(X_train, y_train, X_test, y_test, 0.001, 1000, 32)"
   ]
  },
  {
   "cell_type": "code",
   "execution_count": null,
   "metadata": {},
   "outputs": [],
   "source": []
  }
 ],
 "metadata": {
  "kernelspec": {
   "display_name": "Python 3",
   "language": "python",
   "name": "python3"
  },
  "language_info": {
   "codemirror_mode": {
    "name": "ipython",
    "version": 3
   },
   "file_extension": ".py",
   "mimetype": "text/x-python",
   "name": "python",
   "nbconvert_exporter": "python",
   "pygments_lexer": "ipython3",
   "version": "3.6.4"
  }
 },
 "nbformat": 4,
 "nbformat_minor": 2
}
